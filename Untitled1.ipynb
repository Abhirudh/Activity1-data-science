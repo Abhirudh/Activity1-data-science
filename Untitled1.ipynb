{
 "cells": [
  {
   "cell_type": "code",
   "execution_count": 1,
   "id": "d9162c39",
   "metadata": {},
   "outputs": [
    {
     "name": "stdout",
     "output_type": "stream",
     "text": [
      "password hrailhair1,\n"
     ]
    }
   ],
   "source": [
    "import random\n",
    "adjective=['gentle','kindly','noble','wise','brash','hrail','strong','weak','bossy','ill']\n",
    "noun=['farm','film','hair','heart','lion','galaxy','kusic','film','horn','mall']\n",
    "numbers=['0','1','2','3','4','5','6','7','8','9',]\n",
    "punctuation=[\"'\",\"()\",\",\",\".\",\"{}\",\"/\",\"&\",\"!\"]\n",
    "adj=random.choice(adjective)\n",
    "noun=random.choice(noun)\n",
    "num=random.choice(numbers)\n",
    "punc=random.choice(punctuation)\n",
    "password=adj+noun+num+punc\n",
    "print(\"password\",password)"
   ]
  },
  {
   "cell_type": "code",
   "execution_count": null,
   "id": "e8127af9",
   "metadata": {},
   "outputs": [],
   "source": []
  }
 ],
 "metadata": {
  "kernelspec": {
   "display_name": "Python 3",
   "language": "python",
   "name": "python3"
  },
  "language_info": {
   "codemirror_mode": {
    "name": "ipython",
    "version": 3
   },
   "file_extension": ".py",
   "mimetype": "text/x-python",
   "name": "python",
   "nbconvert_exporter": "python",
   "pygments_lexer": "ipython3",
   "version": "3.8.8"
  }
 },
 "nbformat": 4,
 "nbformat_minor": 5
}
